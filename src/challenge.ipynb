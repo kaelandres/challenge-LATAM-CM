{
 "cells": [
  {
   "cell_type": "markdown",
   "metadata": {},
   "source": [
    "# **PROYECTO \"CHALLENGE LATAM\"**"
   ]
  },
  {
   "cell_type": "markdown",
   "metadata": {},
   "source": [
    "## **CARGA DE DATOS**"
   ]
  },
  {
   "cell_type": "code",
   "execution_count": 59,
   "metadata": {
    "collapsed": true,
    "jupyter": {
     "outputs_hidden": true
    },
    "scrolled": true
   },
   "outputs": [
    {
     "name": "stdout",
     "output_type": "stream",
     "text": [
      "{'url': 'https://twitter.com/ArjunSinghPanam/status/1364506249291784198', 'date': '2021-02-24T09:23:35+00:00', 'content': 'The world progresses while the Indian police and Govt are still trying to take India back to the horrific past through its tyranny. \\n\\n@narendramodi @DelhiPolice Shame on you. \\n\\n#ModiDontSellFarmers \\n#FarmersProtest \\n#FreeNodeepKaur https://t.co/es3kn0IQAF', 'renderedContent': 'The world progresses while the Indian police and Govt are still trying to take India back to the horrific past through its tyranny. \\n\\n@narendramodi @DelhiPolice Shame on you. \\n\\n#ModiDontSellFarmers \\n#FarmersProtest \\n#FreeNodeepKaur twitter.com/ravisinghka/st…', 'id': 1364506249291784198, 'user': {'username': 'ArjunSinghPanam', 'displayname': 'Arjun Singh Panam', 'id': 45091142, 'description': 'Global Citizen, Actor, Director: Sky is the roof above my head, the world is the road I travel, love is my food & mother earth is my bed. Roy in @CosmosMovie', 'rawDescription': 'Global Citizen, Actor, Director: Sky is the roof above my head, the world is the road I travel, love is my food & mother earth is my bed. Roy in @CosmosMovie', 'descriptionUrls': [], 'verified': False, 'created': '2009-06-06T07:50:57+00:00', 'followersCount': 603, 'friendsCount': 311, 'statusesCount': 17534, 'favouritesCount': 4269, 'listedCount': 23, 'mediaCount': 1211, 'location': '', 'protected': False, 'linkUrl': 'https://www.cosmosmovieofficial.com', 'linkTcourl': 'https://t.co/3uaoV3gCt3', 'profileImageUrl': 'https://pbs.twimg.com/profile_images/1215541746492461056/3De61YoQ_normal.jpg', 'profileBannerUrl': 'https://pbs.twimg.com/profile_banners/45091142/1612601766', 'url': 'https://twitter.com/ArjunSinghPanam'}, 'outlinks': ['https://twitter.com/ravisinghka/status/1364150844757860352'], 'tcooutlinks': ['https://t.co/es3kn0IQAF'], 'replyCount': 0, 'retweetCount': 0, 'likeCount': 0, 'quoteCount': 0, 'conversationId': 1364506249291784198, 'lang': 'en', 'source': '<a href=\"http://twitter.com/download/iphone\" rel=\"nofollow\">Twitter for iPhone</a>', 'sourceUrl': 'http://twitter.com/download/iphone', 'sourceLabel': 'Twitter for iPhone', 'media': None, 'retweetedTweet': None, 'quotedTweet': {'url': 'https://twitter.com/RaviSinghKA/status/1364150844757860352', 'date': '2021-02-23T09:51:20+00:00', 'content': 'This is what the indian police are good at, beating &amp; raping women ! @police_haryana @DelhiPolice \\n\\nhttps://t.co/mj1qzF7nGh', 'renderedContent': 'This is what the indian police are good at, beating &amp; raping women ! @police_haryana @DelhiPolice \\n\\ngoogle.co.uk/amp/s/m.timeso…', 'id': 1364150844757860352, 'user': {'username': 'RaviSinghKA', 'displayname': 'ravinder singh', 'id': 2347762888, 'description': 'Founder/CEO of Khalsa Aid, Sikh,philanthropist, 20 Years of coordinating aid,humanitarian & passionate about human rights.All views my own:Inc working in Iraq', 'rawDescription': 'Founder/CEO of Khalsa Aid, Sikh,philanthropist, 20 Years of coordinating aid,humanitarian & passionate about human rights.All views my own:Inc working in Iraq', 'descriptionUrls': [], 'verified': False, 'created': '2014-02-16T23:38:54+00:00', 'followersCount': 227423, 'friendsCount': 4042, 'statusesCount': 38683, 'favouritesCount': 30134, 'listedCount': 212, 'mediaCount': 4944, 'location': 'Slough, England ', 'protected': False, 'linkUrl': 'http://www.khalsaaid.org', 'linkTcourl': 'https://t.co/cgdi8BLkK2', 'profileImageUrl': 'https://pbs.twimg.com/profile_images/686526444642643968/bnCPdE7N_normal.jpg', 'profileBannerUrl': 'https://pbs.twimg.com/profile_banners/2347762888/1591307489', 'url': 'https://twitter.com/RaviSinghKA'}, 'outlinks': ['https://www.google.co.uk/amp/s/m.timesofindia.com/city/chandigarh/was-brutally-thrashed-in-thana-nodeep-kaur-tells-punjab-and-haryana-high-court/amp_articleshow/81164092.cms'], 'tcooutlinks': ['https://t.co/mj1qzF7nGh'], 'replyCount': 66, 'retweetCount': 744, 'likeCount': 1939, 'quoteCount': 59, 'conversationId': 1364150844757860352, 'lang': 'en', 'source': '<a href=\"http://twitter.com/download/iphone\" rel=\"nofollow\">Twitter for iPhone</a>', 'sourceUrl': 'http://twitter.com/download/iphone', 'sourceLabel': 'Twitter for iPhone', 'media': None, 'retweetedTweet': None, 'quotedTweet': None, 'mentionedUsers': [{'username': 'police_haryana', 'displayname': 'Haryana Police', 'id': 887564756629966848, 'description': None, 'rawDescription': None, 'descriptionUrls': None, 'verified': None, 'created': None, 'followersCount': None, 'friendsCount': None, 'statusesCount': None, 'favouritesCount': None, 'listedCount': None, 'mediaCount': None, 'location': None, 'protected': None, 'linkUrl': None, 'linkTcourl': None, 'profileImageUrl': None, 'profileBannerUrl': None, 'url': 'https://twitter.com/police_haryana'}, {'username': 'DelhiPolice', 'displayname': '#DilKiPolice Delhi Police', 'id': 1850705408, 'description': None, 'rawDescription': None, 'descriptionUrls': None, 'verified': None, 'created': None, 'followersCount': None, 'friendsCount': None, 'statusesCount': None, 'favouritesCount': None, 'listedCount': None, 'mediaCount': None, 'location': None, 'protected': None, 'linkUrl': None, 'linkTcourl': None, 'profileImageUrl': None, 'profileBannerUrl': None, 'url': 'https://twitter.com/DelhiPolice'}]}, 'mentionedUsers': [{'username': 'narendramodi', 'displayname': 'Narendra Modi', 'id': 18839785, 'description': None, 'rawDescription': None, 'descriptionUrls': None, 'verified': None, 'created': None, 'followersCount': None, 'friendsCount': None, 'statusesCount': None, 'favouritesCount': None, 'listedCount': None, 'mediaCount': None, 'location': None, 'protected': None, 'linkUrl': None, 'linkTcourl': None, 'profileImageUrl': None, 'profileBannerUrl': None, 'url': 'https://twitter.com/narendramodi'}, {'username': 'DelhiPolice', 'displayname': '#DilKiPolice Delhi Police', 'id': 1850705408, 'description': None, 'rawDescription': None, 'descriptionUrls': None, 'verified': None, 'created': None, 'followersCount': None, 'friendsCount': None, 'statusesCount': None, 'favouritesCount': None, 'listedCount': None, 'mediaCount': None, 'location': None, 'protected': None, 'linkUrl': None, 'linkTcourl': None, 'profileImageUrl': None, 'profileBannerUrl': None, 'url': 'https://twitter.com/DelhiPolice'}]}\n",
      "{'url': 'https://twitter.com/PrdeepNain/status/1364506237451313155', 'date': '2021-02-24T09:23:32+00:00', 'content': \"#FarmersProtest \\n#ModiIgnoringFarmersDeaths \\n#ModiDontSellFarmers \\n@Kisanektamorcha \\nFarmers constantly distroying crops throughout India. \\nReally, it's hearts breaking...we care about our crops like our children. And govt. agriculture minister is laughing on us🚜🌾WE WILL WIN💪 https://t.co/kLspngG9xE\", 'renderedContent': \"#FarmersProtest \\n#ModiIgnoringFarmersDeaths \\n#ModiDontSellFarmers \\n@Kisanektamorcha \\nFarmers constantly distroying crops throughout India. \\nReally, it's hearts breaking...we care about our crops like our children. And govt. agriculture minister is laughing on us🚜🌾WE WILL WIN💪 https://t.co/kLspngG9xE\", 'id': 1364506237451313155, 'user': {'username': 'PrdeepNain', 'displayname': 'Pradeep Nain', 'id': 1355092620662329349, 'description': 'Live in the sunshine where you belong', 'rawDescription': 'Live in the sunshine where you belong', 'descriptionUrls': [], 'verified': False, 'created': '2021-01-29T09:58:06+00:00', 'followersCount': 14, 'friendsCount': 134, 'statusesCount': 160, 'favouritesCount': 240, 'listedCount': 0, 'mediaCount': 102, 'location': '', 'protected': False, 'linkUrl': None, 'linkTcourl': None, 'profileImageUrl': 'https://pbs.twimg.com/profile_images/1364170636264804352/7xfhNn0S_normal.jpg', 'profileBannerUrl': 'https://pbs.twimg.com/profile_banners/1355092620662329349/1612611418', 'url': 'https://twitter.com/PrdeepNain'}, 'outlinks': [], 'tcooutlinks': [], 'replyCount': 0, 'retweetCount': 0, 'likeCount': 0, 'quoteCount': 0, 'conversationId': 1364506237451313155, 'lang': 'en', 'source': '<a href=\"http://twitter.com/download/android\" rel=\"nofollow\">Twitter for Android</a>', 'sourceUrl': 'http://twitter.com/download/android', 'sourceLabel': 'Twitter for Android', 'media': [{'thumbnailUrl': 'https://pbs.twimg.com/ext_tw_video_thumb/1364506005531361280/pu/img/TlV5WZdUsaU2Qpmy.jpg', 'variants': [{'contentType': 'video/mp4', 'url': 'https://video.twimg.com/ext_tw_video/1364506005531361280/pu/vid/320x580/2EhqHfKscfd1GQnM.mp4?tag=10', 'bitrate': 632000}, {'contentType': 'application/x-mpegURL', 'url': 'https://video.twimg.com/ext_tw_video/1364506005531361280/pu/pl/xKomqeZ_R13sSAq0.m3u8?tag=10', 'bitrate': None}], 'duration': 139.934, 'type': 'video'}], 'retweetedTweet': None, 'quotedTweet': None, 'mentionedUsers': [{'username': 'Kisanektamorcha', 'displayname': 'Kisan Ekta Morcha', 'id': 1338536920066879488, 'description': None, 'rawDescription': None, 'descriptionUrls': None, 'verified': None, 'created': None, 'followersCount': None, 'friendsCount': None, 'statusesCount': None, 'favouritesCount': None, 'listedCount': None, 'mediaCount': None, 'location': None, 'protected': None, 'linkUrl': None, 'linkTcourl': None, 'profileImageUrl': None, 'profileBannerUrl': None, 'url': 'https://twitter.com/Kisanektamorcha'}]}\n",
      "{'url': 'https://twitter.com/parmarmaninder/status/1364506195453767680', 'date': '2021-02-24T09:23:22+00:00', 'content': \"ਪੈਟਰੋਲ ਦੀਆਂ ਕੀਮਤਾਂ ਨੂੰ ਮੱਦੇਨਜ਼ਰ ਰੱਖਦੇ ਹੋਏ \\nਮੇਰੇ ਹਿਸਾਬ ਨਾਲ ਬਾਹਰ(ਪ੍ਰਦੇਸ਼) ਜਾਣ ਨਾਲੋਂ ਬਿਹਤਰ ਆ ਭਾਰਤ 'ਚ ਪੈਟਰੋਲ ਪੰਪ ਪਾ ਲਈਏ। 🤫🤫🤔🤔\\n#FarmersProtest\", 'renderedContent': \"ਪੈਟਰੋਲ ਦੀਆਂ ਕੀਮਤਾਂ ਨੂੰ ਮੱਦੇਨਜ਼ਰ ਰੱਖਦੇ ਹੋਏ \\nਮੇਰੇ ਹਿਸਾਬ ਨਾਲ ਬਾਹਰ(ਪ੍ਰਦੇਸ਼) ਜਾਣ ਨਾਲੋਂ ਬਿਹਤਰ ਆ ਭਾਰਤ 'ਚ ਪੈਟਰੋਲ ਪੰਪ ਪਾ ਲਈਏ। 🤫🤫🤔🤔\\n#FarmersProtest\", 'id': 1364506195453767680, 'user': {'username': 'parmarmaninder', 'displayname': 'maninder singh', 'id': 476006247, 'description': '।।ਨਾਨਕ ਨਾਮ ਚੜ੍ਹਦੀ ਕਲਾ ਤੇਰੈ ਭਾਣੈ ਸਰਬੱਤ ਦਾ ਭਲਾ।।', 'rawDescription': '।।ਨਾਨਕ ਨਾਮ ਚੜ੍ਹਦੀ ਕਲਾ ਤੇਰੈ ਭਾਣੈ ਸਰਬੱਤ ਦਾ ਭਲਾ।।', 'descriptionUrls': [], 'verified': False, 'created': '2012-01-27T17:30:27+00:00', 'followersCount': 72, 'friendsCount': 151, 'statusesCount': 2285, 'favouritesCount': 846, 'listedCount': 0, 'mediaCount': 265, 'location': '', 'protected': False, 'linkUrl': None, 'linkTcourl': None, 'profileImageUrl': 'https://pbs.twimg.com/profile_images/1332977102749052932/tH_XUbMg_normal.jpg', 'profileBannerUrl': 'https://pbs.twimg.com/profile_banners/476006247/1613580104', 'url': 'https://twitter.com/parmarmaninder'}, 'outlinks': [], 'tcooutlinks': [], 'replyCount': 0, 'retweetCount': 0, 'likeCount': 0, 'quoteCount': 0, 'conversationId': 1364506195453767680, 'lang': 'pa', 'source': '<a href=\"http://twitter.com/download/android\" rel=\"nofollow\">Twitter for Android</a>', 'sourceUrl': 'http://twitter.com/download/android', 'sourceLabel': 'Twitter for Android', 'media': None, 'retweetedTweet': None, 'quotedTweet': None, 'mentionedUsers': None}\n"
     ]
    }
   ],
   "source": [
    "# Lectura de base de datos para observar estructura de la información (como esta distribuida)\n",
    "\n",
    "import json\n",
    "\n",
    "file_path = 'farmers-protest-tweets-2021-2-4.json'\n",
    "\n",
    "# Leer las primeras líneas del archivo JSON\n",
    "with open(file_path, 'r', encoding='utf-8') as file:\n",
    "    for i in range(3):  # Leer las primeras 5 líneas\n",
    "        print(json.loads(file.readline()))"
   ]
  },
  {
   "cell_type": "markdown",
   "metadata": {},
   "source": [
    "## **Primera parte (Q1):**\n",
    "## Las top 10 fechas donde hay más tweets. Mencionar el usuario (username) que más publicaciones tiene por cada uno de esos días"
   ]
  },
  {
   "cell_type": "markdown",
   "metadata": {},
   "source": [
    "### Función Optimizando Tiempo:"
   ]
  },
  {
   "cell_type": "code",
   "execution_count": 11,
   "metadata": {},
   "outputs": [],
   "source": [
    "#Importando Librerias\n",
    "import json\n",
    "from collections import Counter, defaultdict\n",
    "from datetime import datetime\n",
    "from typing import List, Tuple\n",
    "\n",
    "def q1_time(file_path: str) -> List[Tuple[datetime.date, str]]:\n",
    "    with open(file_path, 'r', encoding='utf-8') as file:\n",
    "        data = [json.loads(line) for line in file] #Cargar cada linea como un diccionario\n",
    "    \n",
    "    date_user_count = defaultdict(Counter) # Crea un defaultdict de Counter para contar usuarios por fecha\n",
    "    for tweet in data:\n",
    "        date = datetime.strptime(tweet['date'], '%Y-%m-%dT%H:%M:%S%z').date() # Extrae la fecha del tweet\n",
    "        user = tweet.get('user', {}).get('username', 'unknown')  # Obtiene el nombre de usuario del tweet, o 'unknown' si no existe\n",
    "        date_user_count[date][user] += 1 # Crea conteo de usuarios por fecha\n",
    "    \n",
    "    top_dates = Counter({date: sum(users.values()) for date, users in date_user_count.items()})\n",
    "    top_10_dates = top_dates.most_common(10) # Obtiene las 10 fechas con más tweets\n",
    "    \n",
    "    result = [(date, date_user_count[date].most_common(1)[0][0]) for date, _ in top_10_dates]\n",
    "    # Construye la lista de resultados\n",
    "    return result"
   ]
  },
  {
   "cell_type": "markdown",
   "metadata": {},
   "source": [
    "### Probar la función optimizadora Tiempo para Q1"
   ]
  },
  {
   "cell_type": "code",
   "execution_count": 60,
   "metadata": {},
   "outputs": [
    {
     "name": "stdout",
     "output_type": "stream",
     "text": [
      "Tiempo de ejecución de la funcion Q1: 6.8561155796051025 segundos\n",
      "Fechas con mas Tweets y Usuarios con mayor frecuencia de Tweets:\n",
      "Fecha: 2021-02-12, Usuario: RanbirS00614606\n",
      "Fecha: 2021-02-13, Usuario: MaanDee08215437\n",
      "Fecha: 2021-02-17, Usuario: RaaJVinderkaur\n",
      "Fecha: 2021-02-16, Usuario: jot__b\n",
      "Fecha: 2021-02-14, Usuario: rebelpacifist\n",
      "Fecha: 2021-02-18, Usuario: neetuanjle_nitu\n",
      "Fecha: 2021-02-15, Usuario: jot__b\n",
      "Fecha: 2021-02-20, Usuario: MangalJ23056160\n",
      "Fecha: 2021-02-23, Usuario: Surrypuria\n",
      "Fecha: 2021-02-19, Usuario: Preetm91\n"
     ]
    }
   ],
   "source": [
    "# Medir tiempo de ejecución y ver resultados\n",
    "start_time = time.time()\n",
    "result_q1_time = q1_time('farmers-protest-tweets-2021-2-4.json')\n",
    "end_time = time.time()\n",
    "print(f\"Tiempo de ejecución de la funcion Q1: {end_time - start_time} segundos\")\n",
    "\n",
    "print(\"Fechas con mas Tweets y Usuarios con mayor frecuencia de Tweets:\")\n",
    "for date, user in result_q1_time:\n",
    "    print(f\"Fecha: {date}, Usuario: {user}\")"
   ]
  },
  {
   "cell_type": "code",
   "execution_count": 61,
   "metadata": {},
   "outputs": [
    {
     "name": "stdout",
     "output_type": "stream",
     "text": [
      "[(datetime.date(2021, 2, 12), 'RanbirS00614606'), (datetime.date(2021, 2, 13), 'MaanDee08215437'), (datetime.date(2021, 2, 17), 'RaaJVinderkaur'), (datetime.date(2021, 2, 16), 'jot__b'), (datetime.date(2021, 2, 14), 'rebelpacifist'), (datetime.date(2021, 2, 18), 'neetuanjle_nitu'), (datetime.date(2021, 2, 15), 'jot__b'), (datetime.date(2021, 2, 20), 'MangalJ23056160'), (datetime.date(2021, 2, 23), 'Surrypuria'), (datetime.date(2021, 2, 19), 'Preetm91')]\n"
     ]
    }
   ],
   "source": [
    "print(result_q1_time) #Salida solicitada por LATAM"
   ]
  },
  {
   "cell_type": "markdown",
   "metadata": {},
   "source": [
    "### Función Optimizando Memoria:"
   ]
  },
  {
   "cell_type": "code",
   "execution_count": 14,
   "metadata": {},
   "outputs": [],
   "source": [
    "#Importando Librerias\n",
    "from memory_profiler import memory_usage\n",
    "from collections import defaultdict, Counter\n",
    "from datetime import datetime\n",
    "from typing import List, Tuple\n",
    "\n",
    "def q1_memory(file_path: str) -> List[Tuple[datetime.date, str]]:\n",
    "    date_user_count = defaultdict(Counter) #Conteo de usuarios por fecha\n",
    "\n",
    "    #Abrir JSON para leer cada linea de Tweets\n",
    "    with open(file_path, 'r', encoding='utf-8') as file:\n",
    "        for line in file:\n",
    "            tweet = json.loads(line) #Cargar cada tweet como un diccionario\n",
    "            date = datetime.strptime(tweet['date'], '%Y-%m-%dT%H:%M:%S%z').date() #registrar fecha del tweet\n",
    "            user = tweet.get('user', {}).get('username', 'unknown')  # registrar usuario de existir o marcar \"unknown\" en caso de no existir\n",
    "            date_user_count[date][user] += 1 # Crea conteo de usuarios por fecha\n",
    "\n",
    "     # Calcula el total de tweets por fecha usando Counter y selecciona las 10 fechas con más tweets\n",
    "    top_dates = Counter({date: sum(users.values()) for date, users in date_user_count.items()})\n",
    "    top_10_dates = top_dates.most_common(10)\n",
    "    # Construye la lista de tuplas (fecha, usuario más activo para esa fecha) para las top 10 fechas\n",
    "    result = [(date, date_user_count[date].most_common(1)[0][0]) for date, _ in top_10_dates]\n",
    "    \n",
    "    return result"
   ]
  },
  {
   "cell_type": "markdown",
   "metadata": {},
   "source": [
    "### Probar la función optimizadora de Memoria para Q1"
   ]
  },
  {
   "cell_type": "code",
   "execution_count": 62,
   "metadata": {},
   "outputs": [
    {
     "name": "stdout",
     "output_type": "stream",
     "text": [
      "Uso de memoria de la función para Q1: 0.05859375 MiB\n",
      "Fechas con mas Tweets y Usuarios con mayor frecuencia de Tweets:\n",
      "Fecha: 2021-02-12, Usuario: RanbirS00614606\n",
      "Fecha: 2021-02-13, Usuario: MaanDee08215437\n",
      "Fecha: 2021-02-17, Usuario: RaaJVinderkaur\n",
      "Fecha: 2021-02-16, Usuario: jot__b\n",
      "Fecha: 2021-02-14, Usuario: rebelpacifist\n",
      "Fecha: 2021-02-18, Usuario: neetuanjle_nitu\n",
      "Fecha: 2021-02-15, Usuario: jot__b\n",
      "Fecha: 2021-02-20, Usuario: MangalJ23056160\n",
      "Fecha: 2021-02-23, Usuario: Surrypuria\n",
      "Fecha: 2021-02-19, Usuario: Preetm91\n"
     ]
    }
   ],
   "source": [
    "# Medir uso de memoria (memory_usage) y ver resultados\n",
    "mem_usage = memory_usage((q1_memory, ('farmers-protest-tweets-2021-2-4.json',)))\n",
    "print(f\"Uso de memoria de la función para Q1: {max(mem_usage) - min(mem_usage)} MiB\")\n",
    "result_q1_memory = q1_memory('farmers-protest-tweets-2021-2-4.json')\n",
    "\n",
    "print(\"Fechas con mas Tweets y Usuarios con mayor frecuencia de Tweets:\")\n",
    "for date, user in result_q1_memory:\n",
    "    print(f\"Fecha: {date}, Usuario: {user}\")"
   ]
  },
  {
   "cell_type": "code",
   "execution_count": 63,
   "metadata": {},
   "outputs": [
    {
     "name": "stdout",
     "output_type": "stream",
     "text": [
      "[(datetime.date(2021, 2, 12), 'RanbirS00614606'), (datetime.date(2021, 2, 13), 'MaanDee08215437'), (datetime.date(2021, 2, 17), 'RaaJVinderkaur'), (datetime.date(2021, 2, 16), 'jot__b'), (datetime.date(2021, 2, 14), 'rebelpacifist'), (datetime.date(2021, 2, 18), 'neetuanjle_nitu'), (datetime.date(2021, 2, 15), 'jot__b'), (datetime.date(2021, 2, 20), 'MangalJ23056160'), (datetime.date(2021, 2, 23), 'Surrypuria'), (datetime.date(2021, 2, 19), 'Preetm91')]\n"
     ]
    }
   ],
   "source": [
    "print(result_q1_memory) #Salida solicitada por LATAM"
   ]
  },
  {
   "cell_type": "markdown",
   "metadata": {},
   "source": [
    "## **Segunda parte (Q2):**\n",
    "## Los top 10 emojis más usados con su respectivo conteo. Debe incluir las siguientes funciones"
   ]
  },
  {
   "cell_type": "markdown",
   "metadata": {},
   "source": [
    "### Función Optimizando Tiempo Q2:"
   ]
  },
  {
   "cell_type": "code",
   "execution_count": 53,
   "metadata": {},
   "outputs": [],
   "source": [
    "import time\n",
    "from memory_profiler import memory_usage\n",
    "from typing import List, Tuple\n",
    "import json\n",
    "from collections import Counter\n",
    "import re\n",
    "\n",
    "def q2_time(file_path: str) -> List[Tuple[str, int]]:\n",
    "    #Función para obtener los 10 emojis más comunes y sus conteos.\n",
    "    emoji_pattern = re.compile(\n",
    "        \"[\"\n",
    "        u\"\\U0001F600-\\U0001F64F\"  # Emoticones\n",
    "        u\"\\U0001F300-\\U0001F5FF\"  # Símbolos y pictogramas misceláneos\n",
    "        u\"\\U0001F680-\\U0001F6FF\"  # Transporte y símbolos de mapas\n",
    "        u\"\\U0001F1E0-\\U0001F1FF\"  # Banderas de países\n",
    "        \"]+\", flags=re.UNICODE)\n",
    "\n",
    "    emojis = Counter()\n",
    "\n",
    "    with open(file_path, 'r', encoding='utf-8') as file:\n",
    "        for line in file:\n",
    "            tweet = json.loads(line)\n",
    "            tweet_emojis = emoji_pattern.findall(tweet['content'])\n",
    "\n",
    "            # Contar la cantidad de veces que cada emoji aparece en el tweet\n",
    "            for emoji in tweet_emojis:\n",
    "                emojis[emoji] += len(re.findall(emoji, tweet['content']))\n",
    "\n",
    "    return emojis.most_common(10)\n"
   ]
  },
  {
   "cell_type": "markdown",
   "metadata": {},
   "source": [
    "### Probar la función optimizadora Tiempo para Q2"
   ]
  },
  {
   "cell_type": "code",
   "execution_count": 54,
   "metadata": {},
   "outputs": [
    {
     "name": "stdout",
     "output_type": "stream",
     "text": [
      "Tiempo de ejecución de q2_time: 3.904435396194458 segundos\n",
      "Resultado de q2_time:\n",
      "🙏: 2743\n",
      "💚: 2310\n",
      "🌾: 1972\n",
      "👉: 1697\n",
      "😂: 950\n",
      "🏻: 701\n",
      "🏽: 569\n",
      "🇮🇳: 545\n",
      "👍: 483\n",
      "👇: 460\n"
     ]
    }
   ],
   "source": [
    "\n",
    "start_time = time.time()\n",
    "result_q2_time = q2_time('farmers-protest-tweets-2021-2-4.json')\n",
    "end_time = time.time()\n",
    "print(f\"Tiempo de ejecución de q2_time: {end_time - start_time} segundos\")\n",
    "print(\"Resultado conteo de Emojis:\")\n",
    "for emoji, count in result_q2_time:\n",
    "    print(f\"{emoji}: {count}\")\n"
   ]
  },
  {
   "cell_type": "code",
   "execution_count": 55,
   "metadata": {},
   "outputs": [
    {
     "name": "stdout",
     "output_type": "stream",
     "text": [
      "[('🙏', 2743), ('💚', 2310), ('🌾', 1972), ('👉', 1697), ('😂', 950), ('🏻', 701), ('🏽', 569), ('🇮🇳', 545), ('👍', 483), ('👇', 460)]\n"
     ]
    }
   ],
   "source": [
    "print(result_q2_time) #Salida solicitada por LATAM"
   ]
  },
  {
   "cell_type": "markdown",
   "metadata": {},
   "source": [
    "### Función Optimizando Memoria Q2:"
   ]
  },
  {
   "cell_type": "code",
   "execution_count": 56,
   "metadata": {},
   "outputs": [],
   "source": [
    "def q2_memory(file_path: str) -> List[Tuple[str, int]]:\n",
    "    \n",
    "    #Función para obtener los 10 emojis más comunes y sus conteos.\n",
    "       emoji_pattern = re.compile(\n",
    "        \"[\"\n",
    "        u\"\\U0001F600-\\U0001F64F\"  # Emoticones👍\n",
    "        u\"\\U0001F300-\\U0001F5FF\"  # Símbolos y pictogramas misceláneos\n",
    "        u\"\\U0001F680-\\U0001F6FF\"  # Transporte y símbolos de mapas\n",
    "        u\"\\U0001F1E0-\\U0001F1FF\"  # Banderas de países\n",
    "        \"]+\", flags=re.UNICODE)\n",
    "\n",
    "    emojis = Counter()\n",
    "\n",
    "    with open(file_path, 'r', encoding='utf-8') as file:\n",
    "        for line in file:\n",
    "            tweet = json.loads(line)\n",
    "            tweet_emojis = emoji_pattern.findall(tweet['content'])\n",
    "\n",
    "            # Contar la cantidad de veces que cada emoji aparece en el tweet\n",
    "            for emoji in tweet_emojis:\n",
    "                emojis[emoji] += len(re.findall(emoji, tweet['content']))\n",
    "\n",
    "    return emojis.most_common(10)\n",
    "    \n",
    "\n"
   ]
  },
  {
   "cell_type": "markdown",
   "metadata": {},
   "source": [
    "### Probar la función optimizadora Memoria para Q2"
   ]
  },
  {
   "cell_type": "code",
   "execution_count": 64,
   "metadata": {},
   "outputs": [
    {
     "name": "stdout",
     "output_type": "stream",
     "text": [
      "Uso de memoria de q2_memory: 0.609375 MiB\n",
      "Resultado conteo de Emojis:\n",
      "🙏: 2743\n",
      "💚: 2310\n",
      "🌾: 1972\n",
      "👉: 1697\n",
      "😂: 950\n",
      "🏻: 701\n",
      "🏽: 569\n",
      "🇮🇳: 545\n",
      "👍: 483\n",
      "👇: 460\n"
     ]
    }
   ],
   "source": [
    "# Medir uso de memoria\n",
    "mem_usage = memory_usage((q2_memory, ('farmers-protest-tweets-2021-2-4.json',)))\n",
    "print(f\"Uso de memoria de q2_memory: {max(mem_usage) - min(mem_usage)} MiB\")\n",
    "result_q2_memory = q2_memory('farmers-protest-tweets-2021-2-4.json')\n",
    "print(\"Resultado conteo de Emojis:\")\n",
    "for emoji, count in result_q2_memory:\n",
    "    print(f\"{emoji}: {count}\")"
   ]
  },
  {
   "cell_type": "code",
   "execution_count": 58,
   "metadata": {},
   "outputs": [
    {
     "name": "stdout",
     "output_type": "stream",
     "text": [
      "[('🙏', 2743), ('💚', 2310), ('🌾', 1972), ('👉', 1697), ('😂', 950), ('🏻', 701), ('🏽', 569), ('🇮🇳', 545), ('👍', 483), ('👇', 460)]\n"
     ]
    }
   ],
   "source": [
    "print(result_q2_memory) #Salida solicitada por LATAM"
   ]
  },
  {
   "cell_type": "code",
   "execution_count": null,
   "metadata": {},
   "outputs": [],
   "source": []
  },
  {
   "cell_type": "markdown",
   "metadata": {},
   "source": [
    "**La etapa Q2 toma el supuesto o realiza el conteo de la siguiente forma: tomamos el emoticon mas utilizado (🙏) como \"A\", pero si alguien usa 2 veces el emoticon en un tweet, \"AA\" (🙏🙏), este se contabilizara 2 veces para el total (3 🙏 en este caso).**\n",
    "\n",
    "**Ya que en un primer intento, realizaba el conteo para \"A\" 🙏, \"AA\" 🙏🙏 y \"AAA\" 🙏🙏🙏 como emoticon unico. Realizando el conteo (por ejemplo) de la siguiente forma:**\n",
    "\n",
    "[('🙏', 101)] [('🙏🙏', 50)] [('🙏🙏🙏')] 17"
   ]
  },
  {
   "cell_type": "code",
   "execution_count": null,
   "metadata": {},
   "outputs": [],
   "source": []
  },
  {
   "cell_type": "markdown",
   "metadata": {},
   "source": [
    "## **Tercera parte (Q3):**\n",
    "## El top 10 histórico de usuarios (username) más influyentes en función del conteo de las menciones (@) que registra cada uno de ellos."
   ]
  },
  {
   "cell_type": "markdown",
   "metadata": {},
   "source": [
    "### Función Optimizando Tiempo Q3:"
   ]
  },
  {
   "cell_type": "code",
   "execution_count": 65,
   "metadata": {},
   "outputs": [],
   "source": [
    "import time\n",
    "from typing import List, Tuple\n",
    "import json\n",
    "from collections import Counter\n",
    "import re\n",
    "\n",
    "#Función para obtener las 10 menciones (@usuario) más comunes y sus conteos.\n",
    "def q3_time(file_path: str) -> List[Tuple[str, int]]:\n",
    "    mention_pattern = re.compile(r'@\\w+') # Patrón para encontrar menciones (@usuario)\n",
    "    \n",
    "    with open(file_path, 'r') as file:\n",
    "        data = [json.loads(line) for line in file] # Leer y cargar los datos del archivo JSON\n",
    "    \n",
    "    mentions = Counter() #Contador para las menciones\n",
    "    for tweet in data:\n",
    "        mentions.update(mention[1:] for mention in mention_pattern.findall(tweet['content']))\n",
    "    # Encontrar todas las menciones en un tweet y actualizar el contador\n",
    "    return mentions.most_common(10) #10 menciones más comunes y su conteos\n",
    "\n",
    "\n"
   ]
  },
  {
   "cell_type": "markdown",
   "metadata": {},
   "source": [
    "### Probar la función optimizadora Tiempo para Q3"
   ]
  },
  {
   "cell_type": "code",
   "execution_count": 69,
   "metadata": {},
   "outputs": [
    {
     "name": "stdout",
     "output_type": "stream",
     "text": [
      "Tiempo de ejecución de q3_time: 6.100264072418213 segundos\n",
      "Top 10 usuarios con mas menciones:\n",
      "narendramodi: 2261\n",
      "Kisanektamorcha: 1836\n",
      "RakeshTikaitBKU: 1639\n",
      "PMOIndia: 1422\n",
      "RahulGandhi: 1125\n",
      "GretaThunberg: 1046\n",
      "RaviSinghKA: 1015\n",
      "rihanna: 972\n",
      "UNHumanRights: 962\n",
      "meenaharris: 925\n"
     ]
    }
   ],
   "source": [
    "# Medir tiempo de ejecución y ver resultados\n",
    "start_time = time.time()\n",
    "result_q3_time = q3_time('farmers-protest-tweets-2021-2-4.json')\n",
    "end_time = time.time()\n",
    "print(f\"Tiempo de ejecución de q3_time: {end_time - start_time} segundos\")\n",
    "print(\"Top 10 usuarios con mas menciones:\")\n",
    "for mentions, count in result_q3_time:\n",
    "    print(f\"{mentions}: {count}\")"
   ]
  },
  {
   "cell_type": "code",
   "execution_count": 70,
   "metadata": {},
   "outputs": [
    {
     "name": "stdout",
     "output_type": "stream",
     "text": [
      "[('narendramodi', 2261), ('Kisanektamorcha', 1836), ('RakeshTikaitBKU', 1639), ('PMOIndia', 1422), ('RahulGandhi', 1125), ('GretaThunberg', 1046), ('RaviSinghKA', 1015), ('rihanna', 972), ('UNHumanRights', 962), ('meenaharris', 925)]\n"
     ]
    }
   ],
   "source": [
    "print(result_q3_time) #Salida solicitada por LATAM"
   ]
  },
  {
   "cell_type": "markdown",
   "metadata": {},
   "source": [
    "### Función Optimizando Memoria Q3:"
   ]
  },
  {
   "cell_type": "code",
   "execution_count": 74,
   "metadata": {},
   "outputs": [],
   "source": [
    "from memory_profiler import memory_usage\n",
    "from typing import List, Tuple\n",
    "import json\n",
    "from collections import Counter\n",
    "import re\n",
    "\n",
    "#Función para obtener las 10 menciones (@usuario) más comunes y sus conteos.\n",
    "\n",
    "def q3_memory(file_path: str) -> List[Tuple[str, int]]:\n",
    "\n",
    "    mentions = Counter() #Contador para las menciones\n",
    "    mention_pattern = re.compile(r'@\\w+') # Patrón para encontrar menciones (@usuario)\n",
    "        \n",
    "    with open(file_path, 'r') as file: # Leer y cargar los datos del archivo JSON\n",
    "        for line in file:\n",
    "            tweet = json.loads(line)\n",
    "            mentions.update(mention[1:] for mention in mention_pattern.findall(tweet['content']))\n",
    "    \n",
    "    return mentions.most_common(10)\n",
    "\n"
   ]
  },
  {
   "cell_type": "markdown",
   "metadata": {},
   "source": [
    "### Probar la función optimizadora Memoria para Q3"
   ]
  },
  {
   "cell_type": "code",
   "execution_count": 77,
   "metadata": {},
   "outputs": [
    {
     "name": "stdout",
     "output_type": "stream",
     "text": [
      "Uso de memoria de q3_memory: 0.0078125 MiB\n",
      "Resultado de q3_memory:\n",
      "narendramodi: 2261\n",
      "Kisanektamorcha: 1836\n",
      "RakeshTikaitBKU: 1639\n",
      "PMOIndia: 1422\n",
      "RahulGandhi: 1125\n",
      "GretaThunberg: 1046\n",
      "RaviSinghKA: 1015\n",
      "rihanna: 972\n",
      "UNHumanRights: 962\n",
      "meenaharris: 925\n"
     ]
    }
   ],
   "source": [
    "# Medir uso de memoria y ver resultados\n",
    "mem_usage = memory_usage((q3_memory, ('farmers-protest-tweets-2021-2-4.json',)))\n",
    "print(f\"Uso de memoria de q3_memory: {max(mem_usage) - min(mem_usage)} MiB\")\n",
    "result_q3_memory = q3_memory('farmers-protest-tweets-2021-2-4.json')\n",
    "print(\"Resultado de q3_memory:\")\n",
    "for mentions, count in result_q3_memory:\n",
    "    print(f\"{mentions}: {count}\")\n"
   ]
  },
  {
   "cell_type": "code",
   "execution_count": 78,
   "metadata": {},
   "outputs": [
    {
     "name": "stdout",
     "output_type": "stream",
     "text": [
      "[('narendramodi', 2261), ('Kisanektamorcha', 1836), ('RakeshTikaitBKU', 1639), ('PMOIndia', 1422), ('RahulGandhi', 1125), ('GretaThunberg', 1046), ('RaviSinghKA', 1015), ('rihanna', 972), ('UNHumanRights', 962), ('meenaharris', 925)]\n"
     ]
    }
   ],
   "source": [
    "print(result_q3_memory) #Salida solicitada por LATAM"
   ]
  }
 ],
 "metadata": {
  "kernelspec": {
   "display_name": "Python 3 (ipykernel)",
   "language": "python",
   "name": "python3"
  },
  "language_info": {
   "codemirror_mode": {
    "name": "ipython",
    "version": 3
   },
   "file_extension": ".py",
   "mimetype": "text/x-python",
   "name": "python",
   "nbconvert_exporter": "python",
   "pygments_lexer": "ipython3",
   "version": "3.12.4"
  }
 },
 "nbformat": 4,
 "nbformat_minor": 4
}
